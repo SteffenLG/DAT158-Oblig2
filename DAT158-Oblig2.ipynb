{
 "cells": [
  {
   "cell_type": "code",
   "execution_count": 74,
   "metadata": {},
   "outputs": [],
   "source": [
    "\n",
    "\n",
    "#imports\n",
    "import pandas as pd\n",
    "import numpy as np\n",
    "import os\n",
    "from sklearn.model_selection import train_test_split\n",
    "\n",
    "import os\n",
    "import json\n",
    "from pandas import json_normalize\n",
    "\n",
    "def load_df(csv_path='../input/train.csv', nrows=None):\n",
    "    JSON_COLUMNS = ['device', 'geoNetwork', 'totals', 'trafficSource']\n",
    "    \n",
    "    df = pd.read_csv(csv_path, \n",
    "                     converters={column: json.loads for column in JSON_COLUMNS}, \n",
    "                     dtype={'fullVisitorId': 'str'}, # Important!!\n",
    "                     nrows=nrows)\n",
    "    \n",
    "    for column in JSON_COLUMNS:\n",
    "        column_as_df = json_normalize(df[column])\n",
    "        column_as_df.columns = [f\"{column}.{subcolumn}\" for subcolumn in column_as_df.columns]\n",
    "        df = df.drop(column, axis=1).merge(column_as_df, right_index=True, left_index=True)\n",
    "    print(f\"Loaded {os.path.basename(csv_path)}. Shape: {df.shape}\")\n",
    "    return df\n"
   ]
  },
  {
   "cell_type": "code",
   "execution_count": 75,
   "metadata": {},
   "outputs": [
    {
     "name": "stdout",
     "output_type": "stream",
     "text": [
      "Loaded train.csv. Shape: (100000, 55)\n",
      "Loaded test.csv. Shape: (100000, 53)\n"
     ]
    }
   ],
   "source": [
    "train = load_df(nrows=100000, csv_path=\"data/train.csv\")\n",
    "test = load_df(\"data/test.csv\", 100000)\n",
    "pd.set_option('display.max_columns', None)"
   ]
  },
  {
   "cell_type": "code",
   "execution_count": 76,
   "metadata": {},
   "outputs": [
    {
     "name": "stderr",
     "output_type": "stream",
     "text": [
      "C:\\Users\\steff\\anaconda3\\lib\\site-packages\\pandas\\core\\ops\\array_ops.py:253: FutureWarning: elementwise comparison failed; returning scalar instead, but in the future will perform elementwise comparison\n",
      "  res_values = method(rvalues)\n"
     ]
    },
    {
     "name": "stdout",
     "output_type": "stream",
     "text": [
      "<class 'pandas.core.frame.DataFrame'>\n",
      "RangeIndex: 100000 entries, 0 to 99999\n",
      "Data columns (total 38 columns):\n",
      " #   Column                                        Non-Null Count   Dtype \n",
      "---  ------                                        --------------   ----- \n",
      " 0   channelGrouping                               100000 non-null  object\n",
      " 1   date                                          100000 non-null  int64 \n",
      " 2   fullVisitorId                                 100000 non-null  object\n",
      " 3   sessionId                                     100000 non-null  object\n",
      " 4   socialEngagementType                          100000 non-null  object\n",
      " 5   visitId                                       100000 non-null  int64 \n",
      " 6   visitNumber                                   100000 non-null  int64 \n",
      " 7   visitStartTime                                100000 non-null  int64 \n",
      " 8   device.browser                                100000 non-null  object\n",
      " 9   device.operatingSystem                        100000 non-null  object\n",
      " 10  device.isMobile                               100000 non-null  bool  \n",
      " 11  device.deviceCategory                         100000 non-null  object\n",
      " 12  geoNetwork.continent                          100000 non-null  object\n",
      " 13  geoNetwork.subContinent                       100000 non-null  object\n",
      " 14  geoNetwork.country                            100000 non-null  object\n",
      " 15  geoNetwork.region                             100000 non-null  object\n",
      " 16  geoNetwork.metro                              100000 non-null  object\n",
      " 17  geoNetwork.city                               100000 non-null  object\n",
      " 18  geoNetwork.networkDomain                      100000 non-null  object\n",
      " 19  totals.visits                                 100000 non-null  object\n",
      " 20  totals.hits                                   100000 non-null  object\n",
      " 21  totals.pageviews                              99993 non-null   object\n",
      " 22  totals.bounces                                48916 non-null   object\n",
      " 23  totals.newVisits                              77263 non-null   object\n",
      " 24  totals.transactionRevenue                     1399 non-null    object\n",
      " 25  trafficSource.campaign                        100000 non-null  object\n",
      " 26  trafficSource.source                          100000 non-null  object\n",
      " 27  trafficSource.medium                          100000 non-null  object\n",
      " 28  trafficSource.keyword                         44218 non-null   object\n",
      " 29  trafficSource.isTrueDirect                    30454 non-null   object\n",
      " 30  trafficSource.referralPath                    36473 non-null   object\n",
      " 31  trafficSource.adwordsClickInfo.page           2574 non-null    object\n",
      " 32  trafficSource.adwordsClickInfo.slot           2574 non-null    object\n",
      " 33  trafficSource.adwordsClickInfo.gclId          2625 non-null    object\n",
      " 34  trafficSource.adwordsClickInfo.adNetworkType  2574 non-null    object\n",
      " 35  trafficSource.adwordsClickInfo.isVideoAd      2574 non-null    object\n",
      " 36  trafficSource.adContent                       1325 non-null    object\n",
      " 37  trafficSource.campaignCode                    1 non-null       object\n",
      "dtypes: bool(1), int64(4), object(33)\n",
      "memory usage: 28.3+ MB\n",
      "<class 'pandas.core.frame.DataFrame'>\n",
      "RangeIndex: 100000 entries, 0 to 99999\n",
      "Data columns (total 38 columns):\n",
      " #   Column                                        Non-Null Count   Dtype \n",
      "---  ------                                        --------------   ----- \n",
      " 0   channelGrouping                               100000 non-null  object\n",
      " 1   date                                          100000 non-null  int64 \n",
      " 2   fullVisitorId                                 100000 non-null  object\n",
      " 3   sessionId                                     100000 non-null  object\n",
      " 4   socialEngagementType                          100000 non-null  object\n",
      " 5   visitId                                       100000 non-null  int64 \n",
      " 6   visitNumber                                   100000 non-null  int64 \n",
      " 7   visitStartTime                                100000 non-null  int64 \n",
      " 8   device.browser                                100000 non-null  object\n",
      " 9   device.operatingSystem                        100000 non-null  object\n",
      " 10  device.isMobile                               100000 non-null  bool  \n",
      " 11  device.deviceCategory                         100000 non-null  object\n",
      " 12  geoNetwork.continent                          100000 non-null  object\n",
      " 13  geoNetwork.subContinent                       100000 non-null  object\n",
      " 14  geoNetwork.country                            100000 non-null  object\n",
      " 15  geoNetwork.region                             100000 non-null  object\n",
      " 16  geoNetwork.metro                              100000 non-null  object\n",
      " 17  geoNetwork.city                               100000 non-null  object\n",
      " 18  geoNetwork.networkDomain                      100000 non-null  object\n",
      " 19  totals.visits                                 100000 non-null  object\n",
      " 20  totals.hits                                   100000 non-null  object\n",
      " 21  totals.pageviews                              99993 non-null   object\n",
      " 22  totals.bounces                                48916 non-null   object\n",
      " 23  totals.newVisits                              77263 non-null   object\n",
      " 24  totals.transactionRevenue                     1399 non-null    object\n",
      " 25  trafficSource.campaign                        100000 non-null  object\n",
      " 26  trafficSource.source                          100000 non-null  object\n",
      " 27  trafficSource.medium                          100000 non-null  object\n",
      " 28  trafficSource.keyword                         44218 non-null   object\n",
      " 29  trafficSource.isTrueDirect                    30454 non-null   object\n",
      " 30  trafficSource.referralPath                    36473 non-null   object\n",
      " 31  trafficSource.adwordsClickInfo.page           2574 non-null    object\n",
      " 32  trafficSource.adwordsClickInfo.slot           2574 non-null    object\n",
      " 33  trafficSource.adwordsClickInfo.gclId          2625 non-null    object\n",
      " 34  trafficSource.adwordsClickInfo.adNetworkType  2574 non-null    object\n",
      " 35  trafficSource.adwordsClickInfo.isVideoAd      2574 non-null    object\n",
      " 36  trafficSource.adContent                       1325 non-null    object\n",
      " 37  trafficSource.campaignCode                    1 non-null       object\n",
      "dtypes: bool(1), int64(4), object(33)\n",
      "memory usage: 28.3+ MB\n"
     ]
    }
   ],
   "source": [
    "#df = df.loc[:, (df.isnull().sum(axis=0) <= max_number_of_nas)]\n",
    "#train = train.loc[:, (train.eq(\"not available in demo dataset\"))]\n",
    "\n",
    "# Find the columns where values are not available\n",
    "useless_cols = [col for col in train.columns if train[col].eq(\"not available in demo dataset\").all()]\n",
    "# Drop these columns from the dataframe\n",
    "train.drop(useless_cols,\n",
    "        axis=1,\n",
    "        inplace=True)\n",
    "train.info()\n",
    "\n",
    "# Find the columns where values are not available\n",
    "useless_cols = [col for col in train.columns if train[col].isna().all()]\n",
    "# Drop these columns from the dataframe\n",
    "train.drop(useless_cols,\n",
    "        axis=1,\n",
    "        inplace=True)\n",
    "train.info()"
   ]
  },
  {
   "cell_type": "code",
   "execution_count": 77,
   "metadata": {},
   "outputs": [
    {
     "data": {
      "text/plain": [
       "['socialEngagementType', 'totals.visits']"
      ]
     },
     "execution_count": 77,
     "metadata": {},
     "output_type": "execute_result"
    }
   ],
   "source": [
    "const_cols = [c for c in train.columns if train[c].nunique(dropna=False)==1 ]\n",
    "const_cols"
   ]
  },
  {
   "cell_type": "code",
   "execution_count": 78,
   "metadata": {},
   "outputs": [
    {
     "name": "stdout",
     "output_type": "stream",
     "text": [
      "Variables not in test but in train :  {'trafficSource.campaignCode', 'totals.transactionRevenue'}\n"
     ]
    }
   ],
   "source": [
    "print(\"Variables not in test but in train : \", set(train.columns).difference(set(test.columns)))"
   ]
  },
  {
   "cell_type": "code",
   "execution_count": 79,
   "metadata": {},
   "outputs": [],
   "source": [
    "cols_to_drop = const_cols + ['sessionId']\n",
    "\n",
    "train_df = train.drop(cols_to_drop + [\"trafficSource.campaignCode\"], axis=1)\n",
    "test_df = test.drop(cols_to_drop, axis=1)"
   ]
  },
  {
   "cell_type": "code",
   "execution_count": 88,
   "metadata": {},
   "outputs": [
    {
     "name": "stdout",
     "output_type": "stream",
     "text": [
      "channelGrouping\n",
      "device.browser\n",
      "device.deviceCategory\n",
      "device.operatingSystem\n",
      "geoNetwork.city\n",
      "geoNetwork.continent\n",
      "geoNetwork.country\n",
      "geoNetwork.metro\n",
      "geoNetwork.networkDomain\n",
      "geoNetwork.region\n",
      "geoNetwork.subContinent\n",
      "trafficSource.adContent\n",
      "trafficSource.adwordsClickInfo.adNetworkType\n",
      "trafficSource.adwordsClickInfo.gclId\n",
      "trafficSource.adwordsClickInfo.page\n",
      "trafficSource.adwordsClickInfo.slot\n",
      "trafficSource.campaign\n",
      "trafficSource.keyword\n",
      "trafficSource.medium\n",
      "trafficSource.referralPath\n",
      "trafficSource.source\n",
      "trafficSource.adwordsClickInfo.isVideoAd\n",
      "trafficSource.isTrueDirect\n"
     ]
    }
   ],
   "source": [
    "from sklearn import model_selection, preprocessing, metrics\n",
    "import datetime\n",
    "\n",
    "# Impute 0 for missing target values\n",
    "train_df[\"totals.transactionRevenue\"].fillna(0.0, inplace=True)\n",
    "train_df[\"totals.pageviews\"].fillna(0.0, inplace=True)\n",
    "train_df[\"totals.bounces\"].fillna(0.0, inplace=True)\n",
    "train_df[\"totals.newVisits\"].fillna(0.0, inplace=True)\n",
    "train_y = train_df[\"totals.transactionRevenue\"].values\n",
    "train_id = train_df[\"fullVisitorId\"].values\n",
    "test_id = test_df[\"fullVisitorId\"].values\n",
    "\n",
    "\n",
    "# label encode the categorical variables and convert the numerical variables to float\n",
    "cat_cols = [\"channelGrouping\", \"device.browser\", \n",
    "            \"device.deviceCategory\", \"device.operatingSystem\", \n",
    "            \"geoNetwork.city\", \"geoNetwork.continent\", \n",
    "            \"geoNetwork.country\", \"geoNetwork.metro\",\n",
    "            \"geoNetwork.networkDomain\", \"geoNetwork.region\", \n",
    "            \"geoNetwork.subContinent\", \"trafficSource.adContent\", \n",
    "            \"trafficSource.adwordsClickInfo.adNetworkType\", \n",
    "            \"trafficSource.adwordsClickInfo.gclId\", \n",
    "            \"trafficSource.adwordsClickInfo.page\", \n",
    "            \"trafficSource.adwordsClickInfo.slot\", \"trafficSource.campaign\",\n",
    "            \"trafficSource.keyword\", \"trafficSource.medium\", \n",
    "            \"trafficSource.referralPath\", \"trafficSource.source\",\n",
    "            'trafficSource.adwordsClickInfo.isVideoAd', 'trafficSource.isTrueDirect']\n",
    "for col in cat_cols:\n",
    "    print(col)\n",
    "    lbl = preprocessing.LabelEncoder()\n",
    "    lbl.fit(list(train_df[col].values.astype('str')) + list(test_df[col].values.astype('str')))\n",
    "    train_df[col] = lbl.transform(list(train_df[col].values.astype('str')))\n",
    "    test_df[col] = lbl.transform(list(test_df[col].values.astype('str')))\n",
    "\n",
    "train_df[\"totals.transactionRevenue\"] = train_df[\"totals.transactionRevenue\"].astype(float)\n",
    "\n",
    "num_cols = [\"totals.hits\", \"totals.pageviews\", \"visitNumber\", \"visitStartTime\", 'totals.bounces',  'totals.newVisits']    \n",
    "for col in num_cols:\n",
    "    train_df[col] = train_df[col].astype(float)\n",
    "    test_df[col] = test_df[col].astype(float)\n",
    "\n",
    "# Split the train dataset into development and valid based on time \n",
    "#train_df[\"totals.transactionRevenue\"] = train_df[\"totals.transactionRevenue\"].astype('float')\n",
    "dev_df = train_df[train_df['date']<=20170531]\n",
    "val_df = train_df[train_df['date']>2017531]\n",
    "dev_y = np.log1p(dev_df[\"totals.transactionRevenue\"].values)\n",
    "val_y = np.log1p(val_df[\"totals.transactionRevenue\"].values)\n",
    "\n",
    "dev_X = dev_df[cat_cols + num_cols] \n",
    "val_X = val_df[cat_cols + num_cols] \n",
    "test_X = test_df[cat_cols + num_cols]"
   ]
  },
  {
   "cell_type": "code",
   "execution_count": null,
   "metadata": {},
   "outputs": [],
   "source": []
  },
  {
   "cell_type": "code",
   "execution_count": 89,
   "metadata": {},
   "outputs": [],
   "source": [
    "from sklearn.ensemble import GradientBoostingRegressor\n",
    "from sklearn.model_selection import train_test_split\n",
    "\n",
    "X_train, X_test, y_train, y_test = train_test_split(\n",
    "    dev_X, dev_y, random_state=0)"
   ]
  },
  {
   "cell_type": "code",
   "execution_count": 97,
   "metadata": {},
   "outputs": [
    {
     "data": {
      "text/html": [
       "<div>\n",
       "<style scoped>\n",
       "    .dataframe tbody tr th:only-of-type {\n",
       "        vertical-align: middle;\n",
       "    }\n",
       "\n",
       "    .dataframe tbody tr th {\n",
       "        vertical-align: top;\n",
       "    }\n",
       "\n",
       "    .dataframe thead th {\n",
       "        text-align: right;\n",
       "    }\n",
       "</style>\n",
       "<table border=\"1\" class=\"dataframe\">\n",
       "  <thead>\n",
       "    <tr style=\"text-align: right;\">\n",
       "      <th></th>\n",
       "      <th>channelGrouping</th>\n",
       "      <th>device.browser</th>\n",
       "      <th>device.deviceCategory</th>\n",
       "      <th>device.operatingSystem</th>\n",
       "      <th>geoNetwork.city</th>\n",
       "      <th>geoNetwork.continent</th>\n",
       "      <th>geoNetwork.country</th>\n",
       "      <th>geoNetwork.metro</th>\n",
       "      <th>geoNetwork.networkDomain</th>\n",
       "      <th>geoNetwork.region</th>\n",
       "      <th>geoNetwork.subContinent</th>\n",
       "      <th>trafficSource.adContent</th>\n",
       "      <th>trafficSource.adwordsClickInfo.adNetworkType</th>\n",
       "      <th>trafficSource.adwordsClickInfo.gclId</th>\n",
       "      <th>trafficSource.adwordsClickInfo.page</th>\n",
       "      <th>trafficSource.adwordsClickInfo.slot</th>\n",
       "      <th>trafficSource.campaign</th>\n",
       "      <th>trafficSource.keyword</th>\n",
       "      <th>trafficSource.medium</th>\n",
       "      <th>trafficSource.referralPath</th>\n",
       "      <th>trafficSource.source</th>\n",
       "      <th>trafficSource.adwordsClickInfo.isVideoAd</th>\n",
       "      <th>trafficSource.isTrueDirect</th>\n",
       "      <th>totals.hits</th>\n",
       "      <th>totals.pageviews</th>\n",
       "      <th>visitNumber</th>\n",
       "      <th>visitStartTime</th>\n",
       "      <th>totals.bounces</th>\n",
       "      <th>totals.newVisits</th>\n",
       "    </tr>\n",
       "  </thead>\n",
       "  <tbody>\n",
       "    <tr>\n",
       "      <th>85573</th>\n",
       "      <td>1</td>\n",
       "      <td>28</td>\n",
       "      <td>0</td>\n",
       "      <td>13</td>\n",
       "      <td>264</td>\n",
       "      <td>2</td>\n",
       "      <td>143</td>\n",
       "      <td>72</td>\n",
       "      <td>363</td>\n",
       "      <td>71</td>\n",
       "      <td>9</td>\n",
       "      <td>31</td>\n",
       "      <td>3</td>\n",
       "      <td>7395</td>\n",
       "      <td>6</td>\n",
       "      <td>3</td>\n",
       "      <td>4</td>\n",
       "      <td>492</td>\n",
       "      <td>2</td>\n",
       "      <td>1118</td>\n",
       "      <td>99</td>\n",
       "      <td>1</td>\n",
       "      <td>1</td>\n",
       "      <td>1.0</td>\n",
       "      <td>1.0</td>\n",
       "      <td>1.0</td>\n",
       "      <td>1.480437e+09</td>\n",
       "      <td>1.0</td>\n",
       "      <td>1.0</td>\n",
       "    </tr>\n",
       "    <tr>\n",
       "      <th>35822</th>\n",
       "      <td>2</td>\n",
       "      <td>28</td>\n",
       "      <td>0</td>\n",
       "      <td>13</td>\n",
       "      <td>70</td>\n",
       "      <td>4</td>\n",
       "      <td>155</td>\n",
       "      <td>0</td>\n",
       "      <td>1073</td>\n",
       "      <td>127</td>\n",
       "      <td>20</td>\n",
       "      <td>31</td>\n",
       "      <td>3</td>\n",
       "      <td>7395</td>\n",
       "      <td>6</td>\n",
       "      <td>3</td>\n",
       "      <td>8</td>\n",
       "      <td>492</td>\n",
       "      <td>0</td>\n",
       "      <td>1118</td>\n",
       "      <td>0</td>\n",
       "      <td>1</td>\n",
       "      <td>0</td>\n",
       "      <td>2.0</td>\n",
       "      <td>2.0</td>\n",
       "      <td>1.0</td>\n",
       "      <td>1.493707e+09</td>\n",
       "      <td>0.0</td>\n",
       "      <td>1.0</td>\n",
       "    </tr>\n",
       "    <tr>\n",
       "      <th>80607</th>\n",
       "      <td>2</td>\n",
       "      <td>28</td>\n",
       "      <td>1</td>\n",
       "      <td>1</td>\n",
       "      <td>0</td>\n",
       "      <td>2</td>\n",
       "      <td>49</td>\n",
       "      <td>0</td>\n",
       "      <td>6182</td>\n",
       "      <td>0</td>\n",
       "      <td>13</td>\n",
       "      <td>31</td>\n",
       "      <td>3</td>\n",
       "      <td>7395</td>\n",
       "      <td>6</td>\n",
       "      <td>3</td>\n",
       "      <td>8</td>\n",
       "      <td>492</td>\n",
       "      <td>0</td>\n",
       "      <td>1118</td>\n",
       "      <td>0</td>\n",
       "      <td>1</td>\n",
       "      <td>0</td>\n",
       "      <td>5.0</td>\n",
       "      <td>5.0</td>\n",
       "      <td>1.0</td>\n",
       "      <td>1.471878e+09</td>\n",
       "      <td>0.0</td>\n",
       "      <td>1.0</td>\n",
       "    </tr>\n",
       "    <tr>\n",
       "      <th>875</th>\n",
       "      <td>4</td>\n",
       "      <td>28</td>\n",
       "      <td>0</td>\n",
       "      <td>17</td>\n",
       "      <td>264</td>\n",
       "      <td>2</td>\n",
       "      <td>143</td>\n",
       "      <td>72</td>\n",
       "      <td>0</td>\n",
       "      <td>71</td>\n",
       "      <td>9</td>\n",
       "      <td>31</td>\n",
       "      <td>3</td>\n",
       "      <td>7395</td>\n",
       "      <td>6</td>\n",
       "      <td>3</td>\n",
       "      <td>8</td>\n",
       "      <td>318</td>\n",
       "      <td>5</td>\n",
       "      <td>1118</td>\n",
       "      <td>10</td>\n",
       "      <td>1</td>\n",
       "      <td>1</td>\n",
       "      <td>18.0</td>\n",
       "      <td>12.0</td>\n",
       "      <td>1.0</td>\n",
       "      <td>1.472838e+09</td>\n",
       "      <td>0.0</td>\n",
       "      <td>1.0</td>\n",
       "    </tr>\n",
       "    <tr>\n",
       "      <th>87560</th>\n",
       "      <td>2</td>\n",
       "      <td>28</td>\n",
       "      <td>1</td>\n",
       "      <td>1</td>\n",
       "      <td>0</td>\n",
       "      <td>2</td>\n",
       "      <td>143</td>\n",
       "      <td>0</td>\n",
       "      <td>7337</td>\n",
       "      <td>0</td>\n",
       "      <td>9</td>\n",
       "      <td>31</td>\n",
       "      <td>3</td>\n",
       "      <td>7395</td>\n",
       "      <td>6</td>\n",
       "      <td>3</td>\n",
       "      <td>8</td>\n",
       "      <td>492</td>\n",
       "      <td>0</td>\n",
       "      <td>1118</td>\n",
       "      <td>0</td>\n",
       "      <td>1</td>\n",
       "      <td>0</td>\n",
       "      <td>1.0</td>\n",
       "      <td>1.0</td>\n",
       "      <td>1.0</td>\n",
       "      <td>1.489842e+09</td>\n",
       "      <td>1.0</td>\n",
       "      <td>1.0</td>\n",
       "    </tr>\n",
       "  </tbody>\n",
       "</table>\n",
       "</div>"
      ],
      "text/plain": [
       "       channelGrouping  device.browser  device.deviceCategory  \\\n",
       "85573                1              28                      0   \n",
       "35822                2              28                      0   \n",
       "80607                2              28                      1   \n",
       "875                  4              28                      0   \n",
       "87560                2              28                      1   \n",
       "\n",
       "       device.operatingSystem  geoNetwork.city  geoNetwork.continent  \\\n",
       "85573                      13              264                     2   \n",
       "35822                      13               70                     4   \n",
       "80607                       1                0                     2   \n",
       "875                        17              264                     2   \n",
       "87560                       1                0                     2   \n",
       "\n",
       "       geoNetwork.country  geoNetwork.metro  geoNetwork.networkDomain  \\\n",
       "85573                 143                72                       363   \n",
       "35822                 155                 0                      1073   \n",
       "80607                  49                 0                      6182   \n",
       "875                   143                72                         0   \n",
       "87560                 143                 0                      7337   \n",
       "\n",
       "       geoNetwork.region  geoNetwork.subContinent  trafficSource.adContent  \\\n",
       "85573                 71                        9                       31   \n",
       "35822                127                       20                       31   \n",
       "80607                  0                       13                       31   \n",
       "875                   71                        9                       31   \n",
       "87560                  0                        9                       31   \n",
       "\n",
       "       trafficSource.adwordsClickInfo.adNetworkType  \\\n",
       "85573                                             3   \n",
       "35822                                             3   \n",
       "80607                                             3   \n",
       "875                                               3   \n",
       "87560                                             3   \n",
       "\n",
       "       trafficSource.adwordsClickInfo.gclId  \\\n",
       "85573                                  7395   \n",
       "35822                                  7395   \n",
       "80607                                  7395   \n",
       "875                                    7395   \n",
       "87560                                  7395   \n",
       "\n",
       "       trafficSource.adwordsClickInfo.page  \\\n",
       "85573                                    6   \n",
       "35822                                    6   \n",
       "80607                                    6   \n",
       "875                                      6   \n",
       "87560                                    6   \n",
       "\n",
       "       trafficSource.adwordsClickInfo.slot  trafficSource.campaign  \\\n",
       "85573                                    3                       4   \n",
       "35822                                    3                       8   \n",
       "80607                                    3                       8   \n",
       "875                                      3                       8   \n",
       "87560                                    3                       8   \n",
       "\n",
       "       trafficSource.keyword  trafficSource.medium  \\\n",
       "85573                    492                     2   \n",
       "35822                    492                     0   \n",
       "80607                    492                     0   \n",
       "875                      318                     5   \n",
       "87560                    492                     0   \n",
       "\n",
       "       trafficSource.referralPath  trafficSource.source  \\\n",
       "85573                        1118                    99   \n",
       "35822                        1118                     0   \n",
       "80607                        1118                     0   \n",
       "875                          1118                    10   \n",
       "87560                        1118                     0   \n",
       "\n",
       "       trafficSource.adwordsClickInfo.isVideoAd  trafficSource.isTrueDirect  \\\n",
       "85573                                         1                           1   \n",
       "35822                                         1                           0   \n",
       "80607                                         1                           0   \n",
       "875                                           1                           1   \n",
       "87560                                         1                           0   \n",
       "\n",
       "       totals.hits  totals.pageviews  visitNumber  visitStartTime  \\\n",
       "85573          1.0               1.0          1.0    1.480437e+09   \n",
       "35822          2.0               2.0          1.0    1.493707e+09   \n",
       "80607          5.0               5.0          1.0    1.471878e+09   \n",
       "875           18.0              12.0          1.0    1.472838e+09   \n",
       "87560          1.0               1.0          1.0    1.489842e+09   \n",
       "\n",
       "       totals.bounces  totals.newVisits  \n",
       "85573             1.0               1.0  \n",
       "35822             0.0               1.0  \n",
       "80607             0.0               1.0  \n",
       "875               0.0               1.0  \n",
       "87560             1.0               1.0  "
      ]
     },
     "execution_count": 97,
     "metadata": {},
     "output_type": "execute_result"
    }
   ],
   "source": [
    "X_train.head()"
   ]
  },
  {
   "cell_type": "code",
   "execution_count": 94,
   "metadata": {},
   "outputs": [],
   "source": [
    "reg = GradientBoostingRegressor(random_state=0)\n",
    "reg.fit(X_train, y_train)\n",
    "val_pred = reg.predict(X_test[1:2])"
   ]
  },
  {
   "cell_type": "code",
   "execution_count": 95,
   "metadata": {},
   "outputs": [
    {
     "data": {
      "text/plain": [
       "0.3322613937319503"
      ]
     },
     "execution_count": 95,
     "metadata": {},
     "output_type": "execute_result"
    }
   ],
   "source": [
    "reg.score(X_test, y_test)"
   ]
  },
  {
   "cell_type": "code",
   "execution_count": 96,
   "metadata": {},
   "outputs": [
    {
     "ename": "NameError",
     "evalue": "name 'pred_val' is not defined",
     "output_type": "error",
     "traceback": [
      "\u001b[1;31m---------------------------------------------------------------------------\u001b[0m",
      "\u001b[1;31mNameError\u001b[0m                                 Traceback (most recent call last)",
      "\u001b[1;32m<ipython-input-96-2a729c880d81>\u001b[0m in \u001b[0;36m<module>\u001b[1;34m\u001b[0m\n\u001b[0;32m      1\u001b[0m \u001b[1;32mfrom\u001b[0m \u001b[0msklearn\u001b[0m \u001b[1;32mimport\u001b[0m \u001b[0mmetrics\u001b[0m\u001b[1;33m\u001b[0m\u001b[1;33m\u001b[0m\u001b[0m\n\u001b[1;32m----> 2\u001b[1;33m \u001b[0mpred_val\u001b[0m\u001b[1;33m[\u001b[0m\u001b[0mpred_val\u001b[0m\u001b[1;33m<\u001b[0m\u001b[1;36m0\u001b[0m\u001b[1;33m]\u001b[0m \u001b[1;33m=\u001b[0m \u001b[1;36m0\u001b[0m\u001b[1;33m\u001b[0m\u001b[1;33m\u001b[0m\u001b[0m\n\u001b[0m\u001b[0;32m      3\u001b[0m \u001b[0mval_pred_df\u001b[0m \u001b[1;33m=\u001b[0m \u001b[0mpd\u001b[0m\u001b[1;33m.\u001b[0m\u001b[0mDataFrame\u001b[0m\u001b[1;33m(\u001b[0m\u001b[1;33m{\u001b[0m\u001b[1;34m\"fullVisitorId\"\u001b[0m\u001b[1;33m:\u001b[0m\u001b[0mval_df\u001b[0m\u001b[1;33m[\u001b[0m\u001b[1;34m\"fullVisitorId\"\u001b[0m\u001b[1;33m]\u001b[0m\u001b[1;33m.\u001b[0m\u001b[0mvalues\u001b[0m\u001b[1;33m}\u001b[0m\u001b[1;33m)\u001b[0m\u001b[1;33m\u001b[0m\u001b[1;33m\u001b[0m\u001b[0m\n\u001b[0;32m      4\u001b[0m \u001b[0mval_pred_df\u001b[0m\u001b[1;33m[\u001b[0m\u001b[1;34m\"transactionRevenue\"\u001b[0m\u001b[1;33m]\u001b[0m \u001b[1;33m=\u001b[0m \u001b[0mval_df\u001b[0m\u001b[1;33m[\u001b[0m\u001b[1;34m\"totals.transactionRevenue\"\u001b[0m\u001b[1;33m]\u001b[0m\u001b[1;33m.\u001b[0m\u001b[0mvalues\u001b[0m\u001b[1;33m\u001b[0m\u001b[1;33m\u001b[0m\u001b[0m\n\u001b[0;32m      5\u001b[0m \u001b[0mval_pred_df\u001b[0m\u001b[1;33m[\u001b[0m\u001b[1;34m\"PredictedRevenue\"\u001b[0m\u001b[1;33m]\u001b[0m \u001b[1;33m=\u001b[0m \u001b[0mnp\u001b[0m\u001b[1;33m.\u001b[0m\u001b[0mexpm1\u001b[0m\u001b[1;33m(\u001b[0m\u001b[0mpred_val\u001b[0m\u001b[1;33m)\u001b[0m\u001b[1;33m\u001b[0m\u001b[1;33m\u001b[0m\u001b[0m\n",
      "\u001b[1;31mNameError\u001b[0m: name 'pred_val' is not defined"
     ]
    }
   ],
   "source": [
    "from sklearn import metrics\n",
    "pred_val[pred_val<0] = 0\n",
    "val_pred_df = pd.DataFrame({\"fullVisitorId\":val_df[\"fullVisitorId\"].values})\n",
    "val_pred_df[\"transactionRevenue\"] = val_df[\"totals.transactionRevenue\"].values\n",
    "val_pred_df[\"PredictedRevenue\"] = np.expm1(pred_val)\n",
    "#print(np.sqrt(metrics.mean_squared_error(np.log1p(val_pred_df[\"transactionRevenue\"].values), np.log1p(val_pred_df[\"PredictedRevenue\"].values))))\n",
    "val_pred_df = val_pred_df.groupby(\"fullVisitorId\")[\"transactionRevenue\", \"PredictedRevenue\"].sum().reset_index()\n",
    "print(np.sqrt(metrics.mean_squared_error(np.log1p(val_pred_df[\"transactionRevenue\"].values), np.log1p(val_pred_df[\"PredictedRevenue\"].values))))"
   ]
  },
  {
   "cell_type": "code",
   "execution_count": null,
   "metadata": {},
   "outputs": [],
   "source": [
    "from sklearn.pipeline import Pipeline\n",
    "from sklearn.preprocessing import StandardScaler\n",
    "from sklearn.impute import SimpleImputer\n",
    "\n",
    "some_pipeline = Pipeline([\n",
    "    ('imputer', SimpleImputer(strategy=\"constant\", fill_value=0)),\n",
    "    ('GBR', GradientBoostingRegressor(random_state=0))\n",
    "])"
   ]
  },
  {
   "cell_type": "code",
   "execution_count": null,
   "metadata": {},
   "outputs": [],
   "source": []
  },
  {
   "cell_type": "code",
   "execution_count": null,
   "metadata": {},
   "outputs": [],
   "source": [
    "from sklearn.model_selection import StratifiedShuffleSplit\n",
    "\n",
    "train_df[\"revenue_cat\"] = pd.cut(train_df[\"totals.transactionRevenue\"],\n",
    "                               bins=[0., 1.5, 3.0, 4.5, 6., np.inf],\n",
    "                               labels=[1, 2, 3, 4, 5])\n",
    "\n",
    "split = StratifiedShuffleSplit(n_splits=1, test_size=0.2, random_state=42)\n",
    "for train_index, test_index in split.split(train_df, train_df[\"revenue_cat\"]):\n",
    "    strat_train_set = train_df.loc[train_index]\n",
    "    strat_test_set = train_df.loc[test_index]\n",
    "    \n",
    "\n",
    "#for set_ in (strat_train_set, strat_test_set):\n",
    " #   set_.drop(\"income_cat\", axis=1, inplace=True)\n",
    "\n",
    "strat_train_set = strat_train_set.drop(['revenue_cat'], axis=1)\n",
    "strat_test_set= strat_test_set.drop(['revenue_cat'], axis=1)\n",
    "\n"
   ]
  },
  {
   "cell_type": "markdown",
   "metadata": {},
   "source": [
    "We can tell that there appears to be no missing values"
   ]
  },
  {
   "cell_type": "code",
   "execution_count": null,
   "metadata": {},
   "outputs": [],
   "source": [
    "\n",
    "import matplotlib.pyplot as plt\n",
    "\n",
    "train.plot(kind=\"scatter\", x=\"geoNetwork.longitude\", y=\"geoNetwork.latitude\", alpha=0.4,\n",
    "    #s=training[\"totals.transactionRevenut\"]/100, label=\"transactionRevenue\", \n",
    "    figsize=(10,7),\n",
    "    c=\"totals.transactionRevenue\", cmap=plt.get_cmap(\"jet\"), colorbar=True,\n",
    "    sharex=False)\n"
   ]
  },
  {
   "cell_type": "code",
   "execution_count": null,
   "metadata": {},
   "outputs": [],
   "source": [
    "train[\"geoNetwork.longitude\"]"
   ]
  },
  {
   "cell_type": "code",
   "execution_count": null,
   "metadata": {},
   "outputs": [],
   "source": []
  },
  {
   "cell_type": "code",
   "execution_count": null,
   "metadata": {},
   "outputs": [],
   "source": [
    "train[\"totals.transactionRevenue\"]"
   ]
  },
  {
   "cell_type": "code",
   "execution_count": null,
   "metadata": {},
   "outputs": [],
   "source": [
    "train.head()"
   ]
  },
  {
   "cell_type": "raw",
   "metadata": {},
   "source": []
  },
  {
   "cell_type": "markdown",
   "metadata": {},
   "source": [
    "Maybe add columns for lat/long using another dataset like https://simplemaps.com/data/world-cities"
   ]
  },
  {
   "cell_type": "code",
   "execution_count": null,
   "metadata": {},
   "outputs": [],
   "source": [
    "payingCustomers = train.loc[train['totals.transactionRevenue'].notna()]\n",
    "payingCustomers"
   ]
  },
  {
   "cell_type": "code",
   "execution_count": null,
   "metadata": {},
   "outputs": [],
   "source": [
    "payingCustomers.describe()"
   ]
  },
  {
   "cell_type": "code",
   "execution_count": null,
   "metadata": {},
   "outputs": [],
   "source": [
    "payingCustomers.info()"
   ]
  },
  {
   "cell_type": "code",
   "execution_count": null,
   "metadata": {},
   "outputs": [],
   "source": [
    "payingCustomers[\"channelGrouping\"].value_counts()"
   ]
  },
  {
   "cell_type": "code",
   "execution_count": null,
   "metadata": {},
   "outputs": [],
   "source": [
    "payingCustomers[\"date\"].value_counts()"
   ]
  },
  {
   "cell_type": "code",
   "execution_count": null,
   "metadata": {
    "scrolled": true
   },
   "outputs": [],
   "source": [
    "import seaborn as sns\n",
    "cor = payingCustomers.corr()\n",
    "plt.figure(figsize=(3,3))\n",
    "sns.heatmap(cor, annot=True)"
   ]
  },
  {
   "cell_type": "code",
   "execution_count": null,
   "metadata": {},
   "outputs": [],
   "source": [
    "from sklearn.pipeline import Pipeline\n",
    "from sklearn.preprocessing import StandardScaler\n",
    "from sklearn.impute import SimpleImputer\n",
    "\n",
    "some_pipeline = Pipeline([\n",
    "    ('imputer', SimpleImputer(strategy=\"constant\", fill_value=0))\n",
    "])"
   ]
  },
  {
   "cell_type": "markdown",
   "metadata": {},
   "source": [
    "TODO:\n",
    "\n",
    "Impute missing values\n",
    "    Set revnue to 0 if not present\n",
    "scale"
   ]
  },
  {
   "cell_type": "markdown",
   "metadata": {},
   "source": [
    " 0   channelGrouping                               100000 non-null  object\n",
    "* 1   date                                          100000 non-null  int64 \n",
    "- 2   fullVisitorId                                 100000 non-null  object\n",
    "- 3   sessionId                                     100000 non-null  object\n",
    " 4   socialEngagementType                          100000 non-null  object\n",
    "- 5   visitId                                       100000 non-null  int64 \n",
    " 6   visitNumber                                   100000 non-null  int64 \n",
    "* 7   visitStartTime                                100000 non-null  int64 \n",
    " 8   device.browser                                100000 non-null  object\n",
    " 9   device.operatingSystem                        100000 non-null  object\n",
    " 10  device.isMobile                               100000 non-null  bool  \n",
    " 11  device.deviceCategory                         100000 non-null  object\n",
    " 12  geoNetwork.continent                          100000 non-null  object\n",
    " 13  geoNetwork.subContinent                       100000 non-null  object\n",
    " 14  geoNetwork.country                            100000 non-null  object\n",
    " 15  geoNetwork.region                             100000 non-null  object\n",
    " 16  geoNetwork.metro                              100000 non-null  object\n",
    " 17  geoNetwork.city                               100000 non-null  object\n",
    "* 18  geoNetwork.networkDomain                      100000 non-null  object\n",
    " 19  totals.visits                                 100000 non-null  object\n",
    " 20  totals.hits                                   100000 non-null  object\n",
    " 21  totals.pageviews                              99993 non-null   object\n",
    " 22  totals.bounces                                48916 non-null   object\n",
    " 23  totals.newVisits                              77263 non-null   object\n",
    " 24  totals.transactionRevenue                     1399 non-null    object\n",
    " 25  trafficSource.campaign                        100000 non-null  object\n",
    " 26  trafficSource.source                          100000 non-null  object\n",
    " 27  trafficSource.medium                          100000 non-null  object\n",
    " 28  trafficSource.keyword                         44218 non-null   object\n",
    " 29  trafficSource.isTrueDirect                    30454 non-null   object\n",
    " 30  trafficSource.referralPath                    36473 non-null   object\n",
    " 31  trafficSource.adwordsClickInfo.page           2574 non-null    object\n",
    " 32  trafficSource.adwordsClickInfo.slot           2574 non-null    object\n",
    " 33  trafficSource.adwordsClickInfo.gclId          2625 non-null    object\n",
    " 34  trafficSource.adwordsClickInfo.adNetworkType  2574 non-null    object\n",
    " 35  trafficSource.adwordsClickInfo.isVideoAd      2574 non-null    object\n",
    " 36  trafficSource.adContent                       1325 non-null    object\n",
    " 37  trafficSource.campaignCode                    1 non-null       object"
   ]
  },
  {
   "cell_type": "code",
   "execution_count": null,
   "metadata": {},
   "outputs": [],
   "source": [
    "train[\"geoNetwork.networkDomain\"].head()"
   ]
  },
  {
   "cell_type": "code",
   "execution_count": null,
   "metadata": {},
   "outputs": [],
   "source": [
    "payingCustomers[\"totals.transactionRevenue\"].head()"
   ]
  },
  {
   "cell_type": "code",
   "execution_count": null,
   "metadata": {},
   "outputs": [],
   "source": [
    "payingCustomers[\"totals.transactionRevenue\"].describe()"
   ]
  },
  {
   "cell_type": "code",
   "execution_count": null,
   "metadata": {},
   "outputs": [],
   "source": [
    "payingCustomers.head()"
   ]
  },
  {
   "cell_type": "code",
   "execution_count": null,
   "metadata": {},
   "outputs": [],
   "source": []
  },
  {
   "cell_type": "markdown",
   "metadata": {},
   "source": [
    "## Deployment\n",
    "\n",
    "Suggestion for deployment: Write a web API which can receive data like one or more rows from the test dataset and return a prediction for that data. We are thinking the client will send the data as JSON and receive a JSON response.\n",
    "\n",
    "In order to make this happen, we will need to have a way to transform our data to JSON format, as well as a way to transform it back to a dataframe. "
   ]
  },
  {
   "cell_type": "code",
   "execution_count": null,
   "metadata": {},
   "outputs": [],
   "source": []
  },
  {
   "cell_type": "markdown",
   "metadata": {},
   "source": [
    "### TODO/Checklist\n",
    "\n",
    "* Create pipeline\n",
    "    * Create transformers for:\n",
    "        * Remove useless columns\n",
    "        * Impute missing values\n",
    "        * Transform total revenue to natural log of total revenue\n",
    "        \n",
    "        \n",
    "* Test the model to make sure it performs well-ish\n",
    "        \n",
    "* Store model to a file using pickle or joblib\n",
    "    \n",
    "    \n",
    "\n",
    "* Create API - The API will receive raw data in the same format as our initial CSV files. It will then have to:\n",
    "    * Remove missing columns\n",
    "    * impute missing values\n",
    "    * any other preprocessing\n",
    "    * Make prediction\n",
    "    * Return a JSON object containing customer ID and transactionrevenue. \n",
    "* Test API\n",
    "   \n",
    "We might start by only accepting single row data and then expand to allow multiple row data. \n",
    "\n",
    "### If we have time:\n",
    "* Display data in nice ways to gain insights\n",
    "* Try different models\n",
    "* Deploy API"
   ]
  },
  {
   "cell_type": "code",
   "execution_count": 98,
   "metadata": {},
   "outputs": [
    {
     "ename": "NameError",
     "evalue": "name 'customerId' is not defined",
     "output_type": "error",
     "traceback": [
      "\u001b[1;31m---------------------------------------------------------------------------\u001b[0m",
      "\u001b[1;31mNameError\u001b[0m                                 Traceback (most recent call last)",
      "\u001b[1;32m<ipython-input-98-eebcc60e6f46>\u001b[0m in \u001b[0;36m<module>\u001b[1;34m\u001b[0m\n\u001b[1;32m----> 1\u001b[1;33m \u001b[1;33m{\u001b[0m \u001b[0mcustomerId\u001b[0m\u001b[1;33m:\u001b[0m \u001b[0mid\u001b[0m\u001b[1;33m,\u001b[0m \u001b[0mtotals\u001b[0m\u001b[1;33m.\u001b[0m\u001b[0mtransactionRevenue\u001b[0m\u001b[1;33m:\u001b[0m \u001b[0mvalue\u001b[0m \u001b[1;33m}\u001b[0m\u001b[1;33m\u001b[0m\u001b[1;33m\u001b[0m\u001b[0m\n\u001b[0m",
      "\u001b[1;31mNameError\u001b[0m: name 'customerId' is not defined"
     ]
    }
   ],
   "source": [
    "{ customerId: id, totals.transactionRevenue: value }"
   ]
  },
  {
   "cell_type": "code",
   "execution_count": null,
   "metadata": {},
   "outputs": [],
   "source": []
  }
 ],
 "metadata": {
  "kernelspec": {
   "display_name": "Python 3",
   "language": "python",
   "name": "python3"
  },
  "language_info": {
   "codemirror_mode": {
    "name": "ipython",
    "version": 3
   },
   "file_extension": ".py",
   "mimetype": "text/x-python",
   "name": "python",
   "nbconvert_exporter": "python",
   "pygments_lexer": "ipython3",
   "version": "3.8.3"
  }
 },
 "nbformat": 4,
 "nbformat_minor": 4
}
